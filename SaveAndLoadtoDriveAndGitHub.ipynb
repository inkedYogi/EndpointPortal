<AUTHORSHIP_TAG_GOES_HERE>
<PATH>
<SPREADSHEET_URL>

{
  "nbformat": 4,
  "nbformat_minor": 0,
  "metadata": {
    "colab": {
      "provenance": [],
      "authorship_tag": "<AUTHORSHIP_TAG_GOES_HERE>",
      "include_colab_link": true
    },
    "kernelspec": {
      "name": "python3",
      "display_name": "Python 3"
    },
    "language_info": {
      "name": "python"
    }
  },
  "cells": [
    {
      "cell_type": "markdown",
      "metadata": {
        "id": "view-in-github",
        "colab_type": "text"
      },
      "source": [
        "<a href=\"https://colab.research.google.com/github/<PATH>/SaveAndLoadtoDriveAndGitHub.ipynb\" target=\"_parent\"><img src=\"https://colab.research.google.com/assets/colab-badge.svg\" alt=\"Open In Colab\"/></a>"
      ]
    },
    {
      "cell_type": "code",
      "source": [
        "# Install gspread for Google Sheets\n",
        "!pip install gspread\n",
        "\n",
        "# Requests is usually pre-installed in Colab, if not:\n",
        "!pip install requests\n"
      ],
      "metadata": {
        "id": "t2WvbD4WnHeX"
      },
      "execution_count": null,
      "outputs": []
    },
    {
      "cell_type": "code",
      "source": [
        "# Google Drive Libraries\n",
        "import gspread\n",
        "from google.colab import auth\n",
        "import google.auth\n",
        "\n",
        "# GitHub Libraries\n",
        "import json\n",
        "import base64\n",
        "import requests\n",
        "\n",
        "# ============== Google Drive Section ==============\n",
        "\n",
        "# Authentication and Authorization for Google Drive\n",
        "auth.authenticate_user()\n",
        "gc = gspread.authorize(google.auth.default()[0])\n",
        "\n",
        "# Initialize Google Drive parameters\n",
        "spreadsheet_url = '<SPREADSHEET_URL>",
        "worksheet_name = 'Title Page'\n",
        "\n",
        "# Open Google Sheet and Worksheet\n",
        "workbook = gc.open_by_url(spreadsheet_url)\n",
        "worksheet = workbook.worksheet(worksheet_name)\n",
        "\n",
        "# Function to save data to Google Drive\n",
        "def save_to_drive(data):\n",
        "    worksheet.append_row([data])\n",
        "\n",
        "# Function to load data from Google Drive\n",
        "def load_from_drive(row_number):\n",
        "    return worksheet.row_values(row_number)\n",
        "\n",
        "# ============== GitHub Section ==============\n",
        "\n",
        "# Initialize GitHub API Parameters\n",
        "token = \"<GITHUB_TOKEN>",
        "owner = \"inkedYogi\"\n",
        "repo = \"EndpointPortal\"\n",
        "file_path = \"livingDocs/data/Here's How to Save and Load to Drive and GitHub\"\n",
        "\n",
        "# Prepare headers for GitHub\n",
        "headers = {\n",
        "    'Authorization': f'token {token}',\n",
        "    'Accept': 'application/vnd.github.v3+json',\n",
        "}\n",
        "\n",
        "# Function to save data to GitHub\n",
        "def save_to_github(data):\n",
        "    save_url = f\"https://api.github.com/repos/{owner}/{repo}/contents/{file_path}\"\n",
        "    encoded_content = base64.b64encode(data.encode('utf-8')).decode('utf-8')\n",
        "    data = {\"message\": \"saving data\", \"content\": encoded_content}\n",
        "    response = requests.put(save_url, headers=headers, data=json.dumps(data))\n",
        "    return response.status_code\n",
        "\n",
        "# Function to load data from GitHub\n",
        "def load_from_github():\n",
        "    load_url = f\"https://api.github.com/repos/{owner}/{repo}/contents/{file_path}\"\n",
        "    response = requests.get(load_url, headers=headers)\n",
        "    if response.status_code == 200:\n",
        "        encoded_content = response.json()['content']\n",
        "        return base64.b64decode(encoded_content).decode('utf-8')\n",
        "    else:\n",
        "        return None\n",
        "\n",
        "# ============== Execution Section ==============\n",
        "\n",
        "# Example data\n",
        "example_data = \"Here's How to Save and Load to Drive and GitHub\"\n",
        "\n",
        "# Save to Google Drive\n",
        "save_to_drive(example_data)\n",
        "\n",
        "# Load from Google Drive\n",
        "loaded_data_drive = load_from_drive(1)  # Assuming the data is in the first row\n",
        "print(f\"Data loaded from Drive: {loaded_data_drive}\")\n",
        "\n",
        "# Save to GitHub\n",
        "save_status = save_to_github(example_data)\n",
        "print(f\"Save to GitHub status code: {save_status}\")\n",
        "\n",
        "# Load from GitHub\n",
        "loaded_data_github = load_from_github()\n",
        "print(f\"Data loaded from GitHub: {loaded_data_github}\")\n"
      ],
      "metadata": {
        "colab": {
          "base_uri": "https://localhost:8080/"
        },
        "id": "OLruEbK9nl3Q",
        "outputId": "645d2c4e-d44a-4a77-c1a4-886f2c39216a"
      },
      "execution_count": 4,
      "outputs": [
        {
          "output_type": "stream",
          "name": "stdout",
          "text": [
            "Data loaded from Drive: [\"Here's How to Save and Load to Drive and GitHub\"]\n",
            "Save to GitHub status code: 201\n",
            "Data loaded from GitHub: Here's How to Save and Load to Drive and GitHub\n"
          ]
        }
      ]
    }
  ]
}
